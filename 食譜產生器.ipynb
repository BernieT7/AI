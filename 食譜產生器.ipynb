{
  "cells": [
    {
      "cell_type": "markdown",
      "metadata": {
        "id": "view-in-github",
        "colab_type": "text"
      },
      "source": [
        "<a href=\"https://colab.research.google.com/github/BernieT7/AI/blob/main/%E9%A3%9F%E8%AD%9C%E7%94%A2%E7%94%9F%E5%99%A8.ipynb\" target=\"_parent\"><img src=\"https://colab.research.google.com/assets/colab-badge.svg\" alt=\"Open In Colab\"/></a>"
      ]
    },
    {
      "cell_type": "code",
      "execution_count": null,
      "metadata": {
        "id": "KUvWnHSGgpZ6"
      },
      "outputs": [],
      "source": [
        "# 輸入任意食材，設定創意度，AI會幫你構思出一道符合創意度的料理料理名稱以及食譜\n",
        "!pip install openai\n",
        "!pip install python-dotenv"
      ]
    },
    {
      "cell_type": "code",
      "execution_count": null,
      "metadata": {
        "id": "1uw86wKghW3L"
      },
      "outputs": [],
      "source": [
        "from openai import OpenAI\n",
        "from dotenv import dotenv_values\n",
        "config = dotenv_values('.env')\n",
        "client = OpenAI(api_key=config[\"API_KEY\"])"
      ]
    },
    {
      "cell_type": "code",
      "execution_count": null,
      "metadata": {
        "id": "TVFXtdrAjX40"
      },
      "outputs": [],
      "source": [
        "# 根據食材，創意度設計菜名\n",
        "def generate_food_name(ingredient, temperature):\n",
        "  prompt = f\"\"\"\n",
        "    根據以下食材，產生一道菜名\n",
        "\n",
        "    ###\n",
        "    小黃瓜 蒜\n",
        "    ###\n",
        "    蒜味涼拌小黃瓜\n",
        "\n",
        "    ###\n",
        "    九層塔 烏龍麵 沙茶醬 雞肉\n",
        "    ###\n",
        "    塔香沙茶炒烏龍麵\n",
        "\n",
        "    ###\n",
        "    {ingredient}\n",
        "    ###\n",
        "  \"\"\"\n",
        "\n",
        "  res = client.completions.create(\n",
        "    model=\"gpt-3.5-turbo-instruct\",\n",
        "    prompt=prompt,\n",
        "    max_tokens=100,\n",
        "    temperature=temperature\n",
        "  )\n",
        "\n",
        "  return res.choices[0].text"
      ]
    },
    {
      "cell_type": "code",
      "execution_count": null,
      "metadata": {
        "id": "qLrw1ftiktX7"
      },
      "outputs": [],
      "source": [
        "# 根據食材，產生食譜\n",
        "def generate_recipe(ingredient, dish):\n",
        "  prompt = f\"\"\"\n",
        "    根據以下菜名以及食材，產生食譜\n",
        "\n",
        "    輸出格式 : json array\n",
        "\n",
        "    ###\n",
        "    菜名:蒜味涼拌小黃瓜\n",
        "    食材:小黃瓜\n",
        "    ###\n",
        "    [\n",
        "      \"1.小黃瓜洗淨切段拍扁，加鹽抓勻靜置30分鐘再倒掉瀝出的水份，小黃瓜洗淨切段拍扁，加鹽抓勻靜置30分鐘再倒掉瀝出的水份\",\n",
        "      \"2.加入所有調味料放冰箱冷藏一晚，隔天就可以吃囉\"\n",
        "    ]\n",
        "\n",
        "    ###\n",
        "    菜名:椒鹽杏鮑菇\n",
        "    食材:杏鮑菇 蒜末 九層塔\n",
        "    ###\n",
        "    [\n",
        "      \"1.準備食材、蒜切末、蔥切蔥花、辣椒剪小丁備用\",\n",
        "      \"2.杏鮑菇切片切5到10公分，取容器放入杏鮑菇倒入蛋液混合抓勻，灑上地瓜粉（酥炸粉）粉不用灑太多適量就好\",\n",
        "      \"3.起熱鍋下3湯匙油，油溫熱160度下杏鮑菇煎炸，待兩面金黃色表皮酥脆即可夾起\",\n",
        "      \"4.九層塔一樣沾粉下去煎炸\",\n",
        "      \"5.取個乾淨鍋子熱鍋，下蔥、蒜、辣椒炒出香味，下杏鮑菇翻炒幾下，即可起鍋完成料理\"\n",
        "    ]\n",
        "\n",
        "    ###\n",
        "    菜名:{dish}\n",
        "    食材:{ingredient}\n",
        "    ###\n",
        "  \"\"\"\n",
        "\n",
        "  res = client.completions.create(\n",
        "    model=\"gpt-3.5-turbo-instruct\",\n",
        "    prompt=prompt,\n",
        "    max_tokens=500,\n",
        "    temperature=0.8\n",
        "  )\n",
        "\n",
        "  return res.choices[0].text"
      ]
    },
    {
      "cell_type": "code",
      "execution_count": null,
      "metadata": {
        "id": "yY2THI1TmUCg"
      },
      "outputs": [],
      "source": [
        "# 根據食材，菜名以及食譜產生圖片\n",
        "def generate_image(ingredient, dish, recipe):\n",
        "  ingredients = ingredient.split(\" \")\n",
        "  prompt = f\"一道叫做{dish}的料理，裡面的食材有\"\n",
        "\n",
        "  for i in ingredients:\n",
        "    prompt += f\"{i},\"                               # 輸入食材\n",
        "\n",
        "  prompt += \"製作方式為\"\n",
        "\n",
        "  for i in recipe:\n",
        "    prompt += i                                  # 輸入食譜\n",
        "\n",
        "  res = client.images.generate(\n",
        "      prompt=prompt,\n",
        "      size=\"256x256\"\n",
        "  )\n",
        "\n",
        "  return res.data[0].url"
      ]
    },
    {
      "cell_type": "code",
      "source": [
        "!pip install gradio==3.48.0"
      ],
      "metadata": {
        "id": "9PdTSghJudnN"
      },
      "execution_count": null,
      "outputs": []
    },
    {
      "cell_type": "code",
      "source": [
        "import json\n",
        "# 整合上面三個函式，並在網頁上產生菜名，食譜，圖片\n",
        "def generate_dish_recipe_image(ingredient, temperature):\n",
        "  dish_name = generate_food_name(ingredient, temperature)\n",
        "  recipe = generate_recipe(ingredient, dish_name)\n",
        "  recipe = json.loads(recipe)\n",
        "  dish_img = generate_image(ingredient, dish_name, recipe)\n",
        "\n",
        "  html = f\"\"\"\n",
        "    <h1>{dish_name}</h1>\n",
        "    <img src='{dish_img}'/>\n",
        "  \"\"\"\n",
        "  for i in recipe:\n",
        "    html += f\"<div>{i}</div>\"\n",
        "\n",
        "\n",
        "  return html"
      ],
      "metadata": {
        "id": "ztV5ZUv5umZp"
      },
      "execution_count": null,
      "outputs": []
    },
    {
      "cell_type": "code",
      "source": [
        "import gradio as gr\n",
        "\n",
        "demo = gr.Interface(\n",
        "    fn=generate_dish_recipe_image,\n",
        "    inputs=[\n",
        "      gr.Text(label=\"輸入您的食材(中間用空白隔開) ex:牛肉 豆腐 雞蛋\"),                   # 輸入食材\n",
        "      gr.Slider(0, 2, value=1, label=\"創意度\")                               # 輸入創意度\n",
        "    ],\n",
        "    outputs=\"html\",                                               # 輸出為html\n",
        "    title=\"食譜產生器\",\n",
        "    description=\"輸入食材產生一道菜及食譜\",\n",
        "    allow_flagging=\"never\"\n",
        ")\n",
        "\n",
        "demo.launch(debug=True)"
      ],
      "metadata": {
        "id": "pQWd8dDcueFp"
      },
      "execution_count": null,
      "outputs": []
    }
  ],
  "metadata": {
    "colab": {
      "provenance": [],
      "authorship_tag": "ABX9TyOXcjDT+Xw9Y+eRz0k1JJ+w",
      "include_colab_link": true
    },
    "kernelspec": {
      "display_name": "Python 3",
      "name": "python3"
    },
    "language_info": {
      "name": "python"
    }
  },
  "nbformat": 4,
  "nbformat_minor": 0
}